{
 "cells": [
  {
   "cell_type": "code",
   "execution_count": 13,
   "id": "5cd55969-655b-4c75-89f5-7b6d8189723d",
   "metadata": {},
   "outputs": [],
   "source": [
    "#%pip install pathlib\n",
    "from pathlib import Path\n",
    "import csv"
   ]
  },
  {
   "cell_type": "code",
   "execution_count": 14,
   "id": "a75d23ad-1291-42dd-9f7f-986e9ccdc4f7",
   "metadata": {},
   "outputs": [],
   "source": [
    "# set the path to read the csv file\n",
    "csvpath = Path('budget_data.csv')"
   ]
  },
  {
   "cell_type": "code",
   "execution_count": 100,
   "id": "1336a516-5d2d-46ce-845b-c5ea06cd69e1",
   "metadata": {},
   "outputs": [
    {
     "name": "stdout",
     "output_type": "stream",
     "text": [
      "38382578\n",
      "86\n"
     ]
    }
   ],
   "source": [
    "# Open and read in the csv file, identify header and first row\n",
    "with open(csvpath, 'r') as csvfile:\n",
    "    csvreader = csv.reader(csvfile, delimiter=',')\n",
    "\n",
    "    #ID the headrer\n",
    "    header = next(csvreader)\n",
    "    #print(f\"{header} <-----HEADER\")\n",
    "    \n",
    "    #set the new first row\n",
    "    first_row = next(csvreader)\n",
    "    #print(first_row)\n",
    "    \n",
    "    #set empty lists to hold pnl & dates\n",
    "    dates = []\n",
    "    pnls = []\n",
    "    \n",
    "    # loop through and append pnl and date to previously def empty lists\n",
    "    for row in csvreader:\n",
    "        pnl = int(row [1])\n",
    "        date = row[0]\n",
    "        dates.append(date)\n",
    "        pnls.append(pnl)\n",
    "    #data check of the lists\n",
    "    #print(dates) \n",
    "    #print(pnls)\n",
    "    \n",
    "    #determine final pnl and date sums\n",
    "    total_net_pnl = 0\n",
    "    total_pnl_no_first_row = 0\n",
    "    for pnl in pnls:\n",
    "        total_pnl_no_first_row += pnl\n",
    "        total_net_pnl = int(first_row[1]) + int(total_pnl_no_first_row)\n",
    "    total_month_count = len(dates) + 1\n",
    "    print(total_net_pnl)\n",
    "    print(total_month_count)"
   ]
  },
  {
   "cell_type": "code",
   "execution_count": 101,
   "id": "4a6ae352-d371-49b2-bcea-e56c5debdd9e",
   "metadata": {},
   "outputs": [],
   "source": [
    "#set var Questions 3, 4, 5 initialize variable & lists\n",
    "month_chg =[]\n",
    "net_chg_list = []\n",
    "greatest_increase_profits = [\"\", 0]  #set to blank and 0 so can later fill with larger values\n",
    "greatest_decrease_profits = [\"\", 9999999999] #set to blank and very large number so can fill with less than values\n",
    "\n",
    "# Open and read in the csv file, identify header and first row\n",
    "with open(csvpath, 'r') as csvfile:\n",
    "    csvreader = csv.reader(csvfile, delimiter=',')\n",
    "\n",
    "    #ID the headrer\n",
    "    header = next(csvreader)\n",
    "    #print(f\"{header} <-----HEADER\")\n",
    "    \n",
    "    #set the new first row\n",
    "    first_row = next(csvreader)\n",
    "    #print(first_row)\n",
    "    \n",
    "    \n",
    "#previous variable\n",
    "    previous = int(first_row[1])\n",
    "    \n",
    "    #loop through csvreader and find pnl changes and month\n",
    "    for row in csvreader:\n",
    "        net_chg = int(row[1]) - previous\n",
    "        previous = int(row[1])\n",
    "        net_chg_list = net_chg_list + [net_chg]\n",
    "        month_chg = month_chg + [row[0]]\n",
    "        \n",
    "        #print(greatest_increase_profits)\n",
    "        #print(net_chg)\n",
    "        \n",
    "        #find greatest increase\n",
    "        if net_chg > greatest_increase_profits[1]:\n",
    "            greatest_increase_profits[0] = row[0]\n",
    "            greatest_increase_profits[1] = net_chg\n",
    "            #print(greatest_increase_profits)\n",
    "            \n",
    "        #same for decrease\n",
    "        if net_chg < greatest_decrease_profits[1]:\n",
    "            greatest_decrease_profits[0] = row[0]\n",
    "            greatest_decrease_profits[1] = net_chg\n",
    "            #print(greatest_decrease_profits)\n",
    "        "
   ]
  },
  {
   "cell_type": "code",
   "execution_count": 102,
   "id": "a5d06ce3-4840-4ebb-9717-528c179d1d04",
   "metadata": {},
   "outputs": [
    {
     "name": "stdout",
     "output_type": "stream",
     "text": [
      "-2315.12\n"
     ]
    }
   ],
   "source": [
    "monthly_average = round(sum(net_chg_list) / len(net_chg_list), 2)\n",
    "print(monthly_average)"
   ]
  },
  {
   "cell_type": "code",
   "execution_count": 108,
   "id": "69ebf352-55d2-4311-98ea-a18b20de7de6",
   "metadata": {},
   "outputs": [
    {
     "name": "stdout",
     "output_type": "stream",
     "text": [
      "Financial Analysis\n",
      "--------------------------\n",
      "\n",
      "Total Months: 86\n",
      "\n",
      "Total Net PnL: $38382578\n",
      "\n",
      "Average Change: $-2315.12\n",
      "\n",
      "Greatest Increase in Profits: Feb-2012: $1926159\n",
      "\n",
      "Greatest Decrease in Profits: Sep-2013: $-2196167\n"
     ]
    }
   ],
   "source": [
    "print(f\"Financial Analysis\")\n",
    "print(f\"--------------------------\")\n",
    "print()\n",
    "print(f\"Total Months: {total_month_count}\")\n",
    "print()\n",
    "print(f\"Total Net PnL: ${total_net_pnl}\")\n",
    "print()\n",
    "print(f\"Average Change: ${monthly_average}\")\n",
    "print()\n",
    "print(f\"Greatest Increase in Profits: {greatest_increase_profits[0]}: ${greatest_increase_profits[1]}\")\n",
    "print()\n",
    "print(f\"Greatest Decrease in Profits: {greatest_decrease_profits[0]}: ${greatest_decrease_profits[1]}\")"
   ]
  },
  {
   "cell_type": "code",
   "execution_count": 107,
   "id": "326d2cbd-30eb-4b62-a4c4-fc50830b24a3",
   "metadata": {},
   "outputs": [],
   "source": [
    "financial_output = Path(\"financial_analysis.txt\")\n",
    "with open(financial_output, \"w\") as txt_file:\n",
    "    txt_file.write(f\"Financial Analysis\\n\")\n",
    "    txt_file.write(f\"--------------------------\\n\")\n",
    "    txt_file.write(f\"Total Months: {total_month_count}\\n\")\n",
    "    txt_file.write(f\"Total Net PnL: ${total_net_pnl}\\n\")\n",
    "    txt_file.write(f\"Average Change: ${monthly_average}\\n\")\n",
    "    txt_file.write(f\"Greatest Increase in Profits: {greatest_increase_profits[0]}: ${greatest_increase_profits[1]}\\n\")\n",
    "    txt_file.write(f\"Greatest Decrease in Profits: {greatest_decrease_profits[0]}: ${greatest_decrease_profits[1]}\")"
   ]
  },
  {
   "cell_type": "code",
   "execution_count": null,
   "id": "c58fa4c2-38da-4168-8c9d-94adaf27672f",
   "metadata": {},
   "outputs": [],
   "source": []
  }
 ],
 "metadata": {
  "kernelspec": {
   "display_name": "Python 3 (ipykernel)",
   "language": "python",
   "name": "python3"
  },
  "language_info": {
   "codemirror_mode": {
    "name": "ipython",
    "version": 3
   },
   "file_extension": ".py",
   "mimetype": "text/x-python",
   "name": "python",
   "nbconvert_exporter": "python",
   "pygments_lexer": "ipython3",
   "version": "3.7.13"
  }
 },
 "nbformat": 4,
 "nbformat_minor": 5
}
