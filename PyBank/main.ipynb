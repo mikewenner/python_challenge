{
 "cells": [
  {
   "cell_type": "code",
   "execution_count": 11,
   "id": "5cd55969-655b-4c75-89f5-7b6d8189723d",
   "metadata": {},
   "outputs": [],
   "source": [
    "#%pip install pathlib\n",
    "from pathlib import Path\n",
    "import csv"
   ]
  },
  {
   "cell_type": "code",
   "execution_count": 88,
   "id": "a75d23ad-1291-42dd-9f7f-986e9ccdc4f7",
   "metadata": {},
   "outputs": [],
   "source": [
    "csvpath = Path('/Users/mikewenner/Desktop/budget_data.csv')"
   ]
  },
  {
   "cell_type": "code",
   "execution_count": 89,
   "id": "0acdd4bf-3d64-4f87-80fb-d26f7a734d90",
   "metadata": {},
   "outputs": [],
   "source": [
    "records = []\n",
    "dates = []\n",
    "pnls = []\n",
    "line_num = 0"
   ]
  },
  {
   "cell_type": "code",
   "execution_count": 90,
   "id": "1336a516-5d2d-46ce-845b-c5ea06cd69e1",
   "metadata": {},
   "outputs": [
    {
     "name": "stdout",
     "output_type": "stream",
     "text": [
      "['Jan-2010', 'Feb-2010', 'Mar-2010', 'Apr-2010', 'May-2010', 'Jun-2010', 'Jul-2010', 'Aug-2010', 'Sep-2010', 'Oct-2010', 'Nov-2010', 'Dec-2010', 'Jan-2011', 'Feb-2011', 'Mar-2011', 'Apr-2011', 'May-2011', 'Jun-2011', 'Jul-2011', 'Aug-2011', 'Sep-2011', 'Oct-2011', 'Nov-2011', 'Dec-2011', 'Jan-2012', 'Feb-2012', 'Mar-2012', 'Apr-2012', 'May-2012', 'Jun-2012', 'Jul-2012', 'Aug-2012', 'Sep-2012', 'Oct-2012', 'Nov-2012', 'Dec-2012', 'Jan-2013', 'Feb-2013', 'Mar-2013', 'Apr-2013', 'May-2013', 'Jun-2013', 'Jul-2013', 'Aug-2013', 'Sep-2013', 'Oct-2013', 'Nov-2013', 'Dec-2013', 'Jan-2014', 'Feb-2014', 'Mar-2014', 'Apr-2014', 'May-2014', 'Jun-2014', 'Jul-2014', 'Aug-2014', 'Sep-2014', 'Oct-2014', 'Nov-2014', 'Dec-2014', 'Jan-2015', 'Feb-2015', 'Mar-2015', 'Apr-2015', 'May-2015', 'Jun-2015', 'Jul-2015', 'Aug-2015', 'Sep-2015', 'Oct-2015', 'Nov-2015', 'Dec-2015', 'Jan-2016', 'Feb-2016', 'Mar-2016', 'Apr-2016', 'May-2016', 'Jun-2016', 'Jul-2016', 'Aug-2016', 'Sep-2016', 'Oct-2016', 'Nov-2016', 'Dec-2016', 'Jan-2017', 'Feb-2017']\n",
      "[867884, 984655, 322013, -69417, 310503, 522857, 1033096, 604885, -216386, 477532, 893810, -80353, 779806, -335203, 697845, 793163, 485070, 584122, 62729, 668179, 899906, 834719, 132003, 309978, -755566, 1170593, 252788, 1151518, 817256, 570757, 506702, -1022534, 475062, 779976, 144175, 542494, 359333, 321469, 67780, 471435, 565603, 872480, 789480, 999942, -1196225, 268997, -687986, 1150461, 682458, 617856, 824098, 581943, 132864, 448062, 689161, 800701, 1166643, 947333, 578668, 988505, 1139715, 1029471, 687533, -524626, 158620, 87795, 423389, 840723, 568529, 332067, 989499, 778237, 650000, -1100387, -174946, 757143, 445709, 712961, -1163797, 569899, 768450, 102685, 795914, 60988, 138230, 671099]\n"
     ]
    }
   ],
   "source": [
    "with open(csvpath, 'r') as csvfile:\n",
    "    csvreader = csv.reader(csvfile, delimiter=',')\n",
    "    header = next(csvreader)\n",
    "    line_num +=1\n",
    "    #print(f\"{header} <-----HEADER\")\n",
    "    \n",
    "    for row in csvreader:\n",
    "        #print(row)\n",
    "        pnl = int(row [-1])\n",
    "        #print(pnl)\n",
    "        date = row[0]\n",
    "        #print(date)\n",
    "        dates.append(date)\n",
    "        pnls.append(pnl)\n",
    "    print(dates)\n",
    "    print(pnls)"
   ]
  },
  {
   "cell_type": "code",
   "execution_count": 92,
   "id": "b30fda3d-32f2-492d-aae5-933bd190204b",
   "metadata": {},
   "outputs": [
    {
     "name": "stdout",
     "output_type": "stream",
     "text": [
      "38382578\n",
      "86\n"
     ]
    }
   ],
   "source": [
    "max_pnl = 0\n",
    "min_pnl = 0\n",
    "total_pnl = 0\n",
    "average_pnl = 0\n",
    "day_count = 0\n",
    "\n",
    "for pnl in pnls:\n",
    "    total_pnl += pnl\n",
    "    day_count += 1\n",
    "\n",
    "print(total_pnl)\n",
    "print(day_count)"
   ]
  },
  {
   "cell_type": "code",
   "execution_count": null,
   "id": "eaab1114-746d-484a-97c3-63ec61c9d3b5",
   "metadata": {},
   "outputs": [],
   "source": []
  }
 ],
 "metadata": {
  "kernelspec": {
   "display_name": "Python 3 (ipykernel)",
   "language": "python",
   "name": "python3"
  },
  "language_info": {
   "codemirror_mode": {
    "name": "ipython",
    "version": 3
   },
   "file_extension": ".py",
   "mimetype": "text/x-python",
   "name": "python",
   "nbconvert_exporter": "python",
   "pygments_lexer": "ipython3",
   "version": "3.7.13"
  }
 },
 "nbformat": 4,
 "nbformat_minor": 5
}
