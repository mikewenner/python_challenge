{
 "cells": [
  {
   "cell_type": "code",
   "execution_count": 11,
   "id": "5cd55969-655b-4c75-89f5-7b6d8189723d",
   "metadata": {},
   "outputs": [],
   "source": [
    "#%pip install pathlib\n",
    "from pathlib import Path\n",
    "import csv"
   ]
  },
  {
   "cell_type": "code",
   "execution_count": 66,
   "id": "a75d23ad-1291-42dd-9f7f-986e9ccdc4f7",
   "metadata": {},
   "outputs": [],
   "source": [
    "csvpath = Path('budget_data.csv')"
   ]
  },
  {
   "cell_type": "code",
   "execution_count": 67,
   "id": "0acdd4bf-3d64-4f87-80fb-d26f7a734d90",
   "metadata": {},
   "outputs": [],
   "source": [
    "records = []\n",
    "dates = []\n",
    "pnls = []\n",
    "line_num = 0"
   ]
  },
  {
   "cell_type": "code",
   "execution_count": 68,
   "id": "1336a516-5d2d-46ce-845b-c5ea06cd69e1",
   "metadata": {},
   "outputs": [],
   "source": [
    "with open(csvpath, 'r') as csvfile:\n",
    "    csvreader = csv.reader(csvfile, delimiter=',')\n",
    "    header = next(csvreader)\n",
    "    line_num +=1\n",
    "    #print(f\"{header} <-----HEADER\")\n",
    "    \n",
    "    for row in csvreader:\n",
    "        #print(row)\n",
    "        pnl = int(row [-1])\n",
    "        #print(pnl)\n",
    "        date = row[0]\n",
    "        #print(date)\n",
    "    dates.append(date)\n",
    "    pnls.append(pnl)\n",
    "    #print(dates)\n",
    "    #print(pnls)"
   ]
  },
  {
   "cell_type": "code",
   "execution_count": null,
   "id": "b30fda3d-32f2-492d-aae5-933bd190204b",
   "metadata": {},
   "outputs": [],
   "source": [
    "max_pnl = 0\n",
    "min_pnl = 0\n",
    "total_pnl = 0\n",
    "average_pnl = 0\n",
    "day_count = 0\n",
    "\n",
    "for pnl in pnls:\n",
    "    total_pnl += pnl\n",
    "    "
   ]
  }
 ],
 "metadata": {
  "kernelspec": {
   "display_name": "Python 3 (ipykernel)",
   "language": "python",
   "name": "python3"
  },
  "language_info": {
   "codemirror_mode": {
    "name": "ipython",
    "version": 3
   },
   "file_extension": ".py",
   "mimetype": "text/x-python",
   "name": "python",
   "nbconvert_exporter": "python",
   "pygments_lexer": "ipython3",
   "version": "3.7.13"
  }
 },
 "nbformat": 4,
 "nbformat_minor": 5
}
